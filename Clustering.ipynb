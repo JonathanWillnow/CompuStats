{
 "cells": [
  {
   "cell_type": "markdown",
   "id": "fd3fb7df",
   "metadata": {},
   "source": [
    "--- \n",
    "Final project for the course in Computational Statistics | Summer 2021, M.Sc. Economics, Bonn University | [Jonathan Willnow](https://github.com/JonathanWillnow)\n",
    "\n",
    "\n",
    "# Partitioning and Hierachical Clustering and their Validation <a class=\"tocSkip\">   \n",
    "    \n",
    "    \n",
    "---\n",
    "      "
   ]
  },
  {
   "cell_type": "markdown",
   "id": "b8fdd79b",
   "metadata": {},
   "source": [
    "Clustering is an essential part of Data Science. I will explore several methods for partitioning and hierachical clustering and their validation. My simulation study will explain in which setup clustering methods works the most efficient and what kind of problems each method is facing / solving.\n",
    "\n",
    "Xu,D., Tian,Y. A comprehensive Survey of Clustering Algorithms, Ann. Data. Sci 2, 165-193 (2015)      Minhua Chen et al(2021): Deep Clustering with Measure Propagation\n",
    "\n",
    "\n",
    "##### Downloading and viewing this notebook:\n",
    "\n",
    "* To view this notebook, the best way is to download the notebook which is contained in the repository on [GitHub](https://github.com/OpenSourceEconomics/ose-data-science-course-project-JonathanWillnow). Other viewing options like _MyBinder_ or _NBViewer_ may have issues with displaying images or coloring of certain parts (missing images can be viewed in the folder [files](https://github.com/OpenSourceEconomics/ose-data-science-course-project-JonathanWillnow) on GitHub).\n",
    "\n",
    "\n"
   ]
  },
  {
   "cell_type": "code",
   "execution_count": null,
   "id": "0fa5afd4",
   "metadata": {},
   "outputs": [],
   "source": []
  },
  {
   "cell_type": "markdown",
   "id": "8c1058d0",
   "metadata": {},
   "source": [
    "---\n",
    "# Table of Contents\n",
    "---\n",
    "\n",
    " 1. [Introduction](#introduction)\n",
    " 2. [The Tracking Underreported Financial Flows (TUFF) methodology](#section2)\n",
    " 3. [Descriptive Statistics & Allocation of Chinese Development Finance](#section3)\n",
    "   * 3.1 [The Distribution of Project Types](#section3.1)\n",
    "   * 3.2 [Sectoral Distribution](#section3.2)  \n",
    "   *  3.3 [Finance Form of Projects](#section3.3)  \n",
    "   *  3.4 [Cross-country Distribution of Chinese Development Finance](#section3.4)  \n",
    "   *  3.5 [Factors that determined Allocation of Chinese Development Finance](#section3.5)  \n",
    "       *  3.5.1 [Extension - Descriptive Plots](#section3.5.1)  \n",
    "       *  3.5.2 [Physical Project Inputs](#section3.5.2)  \n",
    "       *  3.5.3 [Foreign Exchange Reserves](#section3.5.3)\n",
    "   *  3.6 [Mixed Effect Models](#section3.6) \n",
    " 4. [Identification](#section4)\n",
    " 5. [Empirical Strategy](#section5)\n",
    "    *  5.1 [IV Strategy](#section5.1)\n",
    "    *  5.2 [Checking Parallel Trends Assumption](#section5.2)\n",
    " 6. [Does Chinese Development Finance Promote Growth?](#section6)\n",
    "    *  6.1 [Main Results](#section5.1)\n",
    "    *  6.2 [Extension - Visual Representation of Results](#section6.2)\n",
    "    *  6.3 [ Extension - Checking Instrument Validity](#section6.3)\n",
    "    *  6.4 [Timing of the Growth Effects](#section6.4)\n",
    "    *  6.5 [How does Chinese Development Finance cause Growth?](#section6.5)\n",
    "    *  6.6 [Robustness Checks](#section6.6)\n",
    " 7. [Conclusion](#section7)\n",
    " 8. [References and Literature](#section8)\n",
    "\n",
    "\n",
    "\n",
    "\n",
    "\n"
   ]
  },
  {
   "cell_type": "markdown",
   "id": "5215b4a4",
   "metadata": {},
   "source": [
    "# Introduction"
   ]
  },
  {
   "cell_type": "markdown",
   "id": "9eafb243",
   "metadata": {},
   "source": [
    "# 1. Clustering"
   ]
  },
  {
   "cell_type": "markdown",
   "id": "8554e1af",
   "metadata": {},
   "source": [
    "Given by Marina:\n",
    "The description should also include theoretical properties of the method together\n",
    "with the properties of the data most often encountered in empirical settings. The\n",
    "simulation study should reflect these two components. You may collaborate (i.e.\n",
    "discuss) with other students who are working within the same general method, for\n",
    "example, lasso, but everyone has to hand in an individual project"
   ]
  },
  {
   "cell_type": "markdown",
   "id": "f1d92c98",
   "metadata": {},
   "source": [
    "## Partitioning Clustering"
   ]
  },
  {
   "cell_type": "markdown",
   "id": "57b423fe",
   "metadata": {},
   "source": [
    "## Hierachial Clustering"
   ]
  },
  {
   "cell_type": "markdown",
   "id": "c5c2ac60",
   "metadata": {},
   "source": [
    "## Validation"
   ]
  },
  {
   "cell_type": "markdown",
   "id": "534c6e3d",
   "metadata": {},
   "source": [
    "# Simulation Study"
   ]
  },
  {
   "cell_type": "markdown",
   "id": "a54de7f0",
   "metadata": {},
   "source": [
    "# Empirical Application"
   ]
  }
 ],
 "metadata": {
  "kernelspec": {
   "display_name": "R",
   "language": "R",
   "name": "ir"
  },
  "language_info": {
   "codemirror_mode": "r",
   "file_extension": ".r",
   "mimetype": "text/x-r-source",
   "name": "R",
   "pygments_lexer": "r",
   "version": "3.6.1"
  }
 },
 "nbformat": 4,
 "nbformat_minor": 5
}
